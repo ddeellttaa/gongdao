{
 "cells": [
  {
   "cell_type": "code",
   "execution_count": 2,
   "id": "c0d57fec",
   "metadata": {},
   "outputs": [],
   "source": [
    "from aip import AipNlp\n",
    "APP_ID = '25045366'\n",
    "API_KEY = 'rB6cqmgStTBSmdvIiqAu2lAU'\n",
    "SECRET_KEY = 'cGnix3UBX1grYuUu7isH3tTRDL1fCEs7'\n",
    "\n",
    "client = AipNlp(APP_ID, API_KEY, SECRET_KEY)"
   ]
  },
  {
   "cell_type": "code",
   "execution_count": 41,
   "id": "830fedb7",
   "metadata": {},
   "outputs": [],
   "source": [
    "with open(\"BV14r4y1C7Sj.txt\",encoding='utf-8') as f:\n",
    "    txt = f.read()\n"
   ]
  },
  {
   "cell_type": "code",
   "execution_count": null,
   "id": "fcd36def",
   "metadata": {},
   "outputs": [],
   "source": []
  },
  {
   "cell_type": "code",
   "execution_count": 46,
   "id": "8ce8cfd2",
   "metadata": {},
   "outputs": [
    {
     "name": "stdout",
     "output_type": "stream",
     "text": [
      "{'log_id': 5555596687181003919, 'text': '哈哈', 'items': [{'positive_prob': 0.999783, 'confidence': 0.999519, 'negative_prob': 0.000216611, 'sentiment': 2}]}\n"
     ]
    }
   ],
   "source": [
    "text = \"哈哈\"\n",
    "print(client.sentimentClassify(text))"
   ]
  },
  {
   "cell_type": "code",
   "execution_count": 91,
   "id": "eb0c2563",
   "metadata": {},
   "outputs": [
    {
     "name": "stdout",
     "output_type": "stream",
     "text": [
      "['这么长时间，这几个b睡着了吧', '他太中立了', '他太中立了', '《枪械优势》', '中 立', '孝了', '中立', '要来了', '戛然而止', '没办法', '燃起来了 脱衣服了都', '包掉了', 'woc这也太细节了吧', '细节', '看到这个标题我就想投币了哈哈哈', '没差多少', '可以孝', '他太中立了', '这个逼麦我糊了都', '看到这条弹幕的时候，你就不是第一个了', '这要刀了   就出事了', '这波确实可以孝', '']\n"
     ]
    }
   ],
   "source": [
    "popup = txt.split(\"\\n\")\n",
    "\n",
    "print(popup)"
   ]
  },
  {
   "cell_type": "code",
   "execution_count": 38,
   "id": "2c5d04b2",
   "metadata": {},
   "outputs": [
    {
     "name": "stdout",
     "output_type": "stream",
     "text": [
      "22\n"
     ]
    }
   ],
   "source": [
    "length = len(popup)\n",
    "reallength = length - 1\n",
    "print(reallength)"
   ]
  },
  {
   "cell_type": "code",
   "execution_count": null,
   "id": "afc8a83a",
   "metadata": {},
   "outputs": [],
   "source": [
    "score = 0\n",
    "i = 0\n",
    "while i < length:\n",
    "    adefen = client.sentimentClassify(popup[i])[\"items\"]\n",
    "    print(adefen)\n",
    "    i = i+1\n",
    "#     defen = adefen[\"sentiment\"]\n",
    "    \n",
    "    \n",
    "    "
   ]
  },
  {
   "cell_type": "code",
   "execution_count": 93,
   "id": "a2bd7aba",
   "metadata": {},
   "outputs": [
    {
     "name": "stdout",
     "output_type": "stream",
     "text": [
      "[{'positive_prob': 0.000380629, 'confidence': 0.999154, 'negative_prob': 0.999619, 'sentiment': 0}]\n",
      "[{'positive_prob': 0.0350751, 'confidence': 0.922055, 'negative_prob': 0.964925, 'sentiment': 0}]\n"
     ]
    },
    {
     "ename": "KeyError",
     "evalue": "'items'",
     "output_type": "error",
     "traceback": [
      "\u001b[1;31m---------------------------------------------------------------------------\u001b[0m",
      "\u001b[1;31mKeyError\u001b[0m                                  Traceback (most recent call last)",
      "\u001b[1;32m<ipython-input-93-ec871f4fc4d4>\u001b[0m in \u001b[0;36m<module>\u001b[1;34m\u001b[0m\n\u001b[0;32m      2\u001b[0m \u001b[0mi\u001b[0m \u001b[1;33m=\u001b[0m \u001b[1;36m0\u001b[0m\u001b[1;33m\u001b[0m\u001b[1;33m\u001b[0m\u001b[0m\n\u001b[0;32m      3\u001b[0m \u001b[1;32mwhile\u001b[0m \u001b[0mi\u001b[0m \u001b[1;33m<\u001b[0m \u001b[0mlength\u001b[0m\u001b[1;33m:\u001b[0m\u001b[1;33m\u001b[0m\u001b[1;33m\u001b[0m\u001b[0m\n\u001b[1;32m----> 4\u001b[1;33m     \u001b[0madefen\u001b[0m \u001b[1;33m=\u001b[0m \u001b[0mclient\u001b[0m\u001b[1;33m.\u001b[0m\u001b[0msentimentClassify\u001b[0m\u001b[1;33m(\u001b[0m\u001b[0mpopup\u001b[0m\u001b[1;33m[\u001b[0m\u001b[0mi\u001b[0m\u001b[1;33m]\u001b[0m\u001b[1;33m)\u001b[0m\u001b[1;33m[\u001b[0m\u001b[1;34m\"items\"\u001b[0m\u001b[1;33m]\u001b[0m\u001b[1;33m\u001b[0m\u001b[1;33m\u001b[0m\u001b[0m\n\u001b[0m\u001b[0;32m      5\u001b[0m     \u001b[0mprint\u001b[0m\u001b[1;33m(\u001b[0m\u001b[0madefen\u001b[0m\u001b[1;33m)\u001b[0m\u001b[1;33m\u001b[0m\u001b[1;33m\u001b[0m\u001b[0m\n\u001b[0;32m      6\u001b[0m     \u001b[0mi\u001b[0m \u001b[1;33m=\u001b[0m \u001b[0mi\u001b[0m\u001b[1;33m+\u001b[0m\u001b[1;36m1\u001b[0m\u001b[1;33m\u001b[0m\u001b[1;33m\u001b[0m\u001b[0m\n",
      "\u001b[1;31mKeyError\u001b[0m: 'items'"
     ]
    }
   ],
   "source": [
    "score = 0\n",
    "i = 0\n",
    "while i < length:\n",
    "    adefen = client.sentimentClassify(popup[i])[\"items\"]\n",
    "    print(adefen)\n",
    "    i = i+1"
   ]
  },
  {
   "cell_type": "code",
   "execution_count": null,
   "id": "efe793cf",
   "metadata": {},
   "outputs": [],
   "source": []
  }
 ],
 "metadata": {
  "kernelspec": {
   "display_name": "Python 3",
   "language": "python",
   "name": "python3"
  },
  "language_info": {
   "codemirror_mode": {
    "name": "ipython",
    "version": 3
   },
   "file_extension": ".py",
   "mimetype": "text/x-python",
   "name": "python",
   "nbconvert_exporter": "python",
   "pygments_lexer": "ipython3",
   "version": "3.8.8"
  }
 },
 "nbformat": 4,
 "nbformat_minor": 5
}
