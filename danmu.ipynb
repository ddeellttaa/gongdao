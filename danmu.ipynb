{
 "cells": [
  {
   "cell_type": "code",
   "execution_count": 1,
   "id": "045c6c5a",
   "metadata": {},
   "outputs": [
    {
     "name": "stdout",
     "output_type": "stream",
     "text": [
      "{'code': 0, 'message': '0', 'ttl': 1, 'data': [{'cid': 433560869, 'page': 1, 'from': 'vupload', 'part': '34972_2021.10.30_20-17-17', 'duration': 3875, 'vid': '', 'weblink': '', 'dimension': {'width': 1920, 'height': 1080, 'rotate': 0}, 'first_frame': 'http://i2.hdslb.com/bfs/storyff/n211030a22nxtzg7x9f2me1dagnjzfch_firsti.jpg'}]}\n",
      "弹幕爬取成功\n"
     ]
    }
   ],
   "source": [
    "import requests\n",
    "import json\n",
    "import re\n",
    " \n",
    " \n",
    "# 下载页面\n",
    "def download_page(url):\n",
    "    headers = {\n",
    "        'User-Agent': 'Mozilla/5.0 (Windows NT 10.0; Win64; x64) AppleWebKit/537.36 (KHTML, like Gecko) Chrome/68.0.3440.106 Safari/537.36'\n",
    "    }\n",
    "    res = requests.get(url, headers=headers)\n",
    "    return res\n",
    " \n",
    " \n",
    "# 根据dvid获取cid\n",
    "def get_cid(dvid):\n",
    "    '''\n",
    "    获取cid\n",
    "    :param dvid: https://api.bilibili.com/x/player/pagelist?bvid=BV1KK4y1h76a&jsonp=jsonp\n",
    "    :return: cid\n",
    "    '''\n",
    "    url = f'https://api.bilibili.com/x/player/pagelist?bvid={dvid}&jsonp=jsonp'\n",
    "    res = download_page(url)\n",
    "    print(json.loads(res.text))\n",
    "    return json.loads(res.text)['data'][0]['cid']\n",
    "    \n",
    "    \n",
    " \n",
    " \n",
    "# 根据cid请求弹幕\n",
    "def get_msg(cid):\n",
    "    '''\n",
    "    :param cid: https://api.bilibili.com/x/v1/dm/list.so?oid=241955049\n",
    "    :return:\n",
    "    '''\n",
    "    url = f'https://api.bilibili.com/x/v1/dm/list.so?oid={cid}'\n",
    "    res = download_page(url)\n",
    "    res.xml = res.content.decode('utf-8')\n",
    "    patten = re.compile('<d.*?>(.*?)</d>')\n",
    "    dan_mu_list = patten.findall(res.xml)\n",
    "    return dan_mu_list\n",
    " \n",
    " \n",
    "# 保存弹幕到txt文件\n",
    "def save_to_file(dan_mu_list, filename):\n",
    "    with open(filename, mode='w', encoding='utf-8') as f:\n",
    "        for i in dan_mu_list:\n",
    "            f.write(i)\n",
    "            f.write('\\n')\n",
    " \n",
    " \n",
    "# 爬取弹幕主程序\n",
    "def main(dvid):\n",
    "    cid = get_cid(dvid)\n",
    "    dan_mu_list = get_msg(cid)\n",
    "    save_to_file(dan_mu_list, f'{dvid}.txt')\n",
    " \n",
    " \n",
    "if __name__ == '__main__':\n",
    "    dvid = 'BV14r4y1C7Sj'\n",
    "#     dvid = input('输入视频BV号：')\n",
    "    main(dvid)\n",
    "    print('弹幕爬取成功')"
   ]
  },
  {
   "cell_type": "code",
   "execution_count": null,
   "id": "dae0ba02",
   "metadata": {},
   "outputs": [],
   "source": []
  }
 ],
 "metadata": {
  "kernelspec": {
   "display_name": "Python 3",
   "language": "python",
   "name": "python3"
  },
  "language_info": {
   "codemirror_mode": {
    "name": "ipython",
    "version": 3
   },
   "file_extension": ".py",
   "mimetype": "text/x-python",
   "name": "python",
   "nbconvert_exporter": "python",
   "pygments_lexer": "ipython3",
   "version": "3.8.8"
  }
 },
 "nbformat": 4,
 "nbformat_minor": 5
}
